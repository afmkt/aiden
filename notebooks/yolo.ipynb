{
 "cells": [
  {
   "cell_type": "code",
   "execution_count": 8,
   "metadata": {},
   "outputs": [
    {
     "name": "stdout",
     "output_type": "stream",
     "text": [
      "Downloading https://github.com/ultralytics/assets/releases/download/v8.2.0/yolov8x.pt to 'yolov8x.pt'...\n"
     ]
    },
    {
     "name": "stderr",
     "output_type": "stream",
     "text": [
      "100%|██████████| 131M/131M [00:08<00:00, 16.7MB/s] \n"
     ]
    }
   ],
   "source": [
    "from ultralytics import YOLO\n",
    "import random\n",
    "import cv2\n",
    "import numpy as np\n",
    "modelseg = YOLO(\"yolov8x-seg.pt\")\n",
    "model = YOLO(\"yolov8x.pt\")"
   ]
  },
  {
   "cell_type": "code",
   "execution_count": 5,
   "metadata": {},
   "outputs": [],
   "source": [
    "\n",
    "# import torch\n",
    "# import torchvision.transforms as transforms\n",
    "# import torchvision.transforms.functional as TF\n",
    "# from torchvision import models\n",
    "# from torch.utils.data import DataLoader\n",
    "# from custom_dataset import CustomDataset\n",
    "# import torch.nn as nn\n",
    "# import torch.optim as optim\n",
    "\n",
    "# # Step 3: Prepare Your Custom Dataset\n",
    "# train_dataset = CustomDataset(train=True)\n",
    "# val_dataset = CustomDataset(train=False)\n",
    "\n",
    "# # Step 4: Data Loading and Preprocessing\n",
    "# train_loader = DataLoader(train_dataset, batch_size=32, shuffle=True)\n",
    "# val_loader = DataLoader(val_dataset, batch_size=32)\n",
    "\n",
    "# # Step 5: Initialize the U-Net Model\n",
    "# model = models.segmentation.deeplabv3_resnet101(pretrained=True)\n",
    "# num_classes = 2  # Adjust based on your dataset\n",
    "# model.classifier = nn.Conv2d(256, num_classes, kernel_size=(1, 1), stride=(1, 1))\n",
    "\n",
    "# # Step 6: Training\n",
    "# device = torch.device(\"cuda\" if torch.cuda.is_available() else \"cpu\")\n",
    "# model.to(device)\n",
    "# criterion = nn.CrossEntropyLoss()\n",
    "# optimizer = optim.Adam(model.parameters(), lr=0.001)\n",
    "\n",
    "# num_epochs = 10\n",
    "# for epoch in range(num_epochs):\n",
    "#     model.train()\n",
    "#     for images, labels in train_loader:\n",
    "#         images, labels = images.to(device), labels.to(device)\n",
    "#         optimizer.zero_grad()\n",
    "#         outputs = model(images)['out']\n",
    "#         loss = criterion(outputs, labels)\n",
    "#         loss.backward()\n",
    "#         optimizer.step()\n",
    "\n",
    "#     # Validation\n",
    "#     model.eval()\n",
    "#     total_loss = 0.0\n",
    "#     for images, labels in val_loader:\n",
    "#         images, labels = images.to(device), labels.to(device)\n",
    "#         with torch.no_grad():\n",
    "#             outputs = model(images)['out']\n",
    "#             loss = criterion(outputs, labels)\n",
    "#             total_loss += loss.item()\n",
    "#     print(f\"Epoch {epoch+1}, Validation Loss: {total_loss / len(val_loader)}\")\n",
    "\n",
    "# Step 7: Evaluation\n",
    "# Evaluate the model on the test set\n",
    "\n",
    "# Step 8: Inference\n",
    "# Use the trained model for inference on new images\n"
   ]
  }
 ],
 "metadata": {
  "kernelspec": {
   "display_name": "ag",
   "language": "python",
   "name": "python3"
  },
  "language_info": {
   "codemirror_mode": {
    "name": "ipython",
    "version": 3
   },
   "file_extension": ".py",
   "mimetype": "text/x-python",
   "name": "python",
   "nbconvert_exporter": "python",
   "pygments_lexer": "ipython3",
   "version": "3.10.14"
  }
 },
 "nbformat": 4,
 "nbformat_minor": 2
}
